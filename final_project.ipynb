{
 "cells": [
  {
   "cell_type": "markdown",
   "metadata": {},
   "source": [
    "# Final Project: Euchre\n",
    "Tyler Gibson & Carter Shavitz | CSC 5661"
   ]
  },
  {
   "cell_type": "markdown",
   "metadata": {},
   "source": [
    "https://en.wikipedia.org/wiki/Euchre\n",
    "\n",
    "https://cardgames.io/euchre/"
   ]
  },
  {
   "cell_type": "code",
   "execution_count": null,
   "metadata": {},
   "outputs": [],
   "source": [
    "import random\n",
    "from player import Player\n",
    "from score import Score"
   ]
  },
  {
   "cell_type": "markdown",
   "metadata": {},
   "source": [
    "## Euchre Environment"
   ]
  },
  {
   "cell_type": "code",
   "execution_count": null,
   "metadata": {},
   "outputs": [],
   "source": [
    "class Euchre:\n",
    "    \"\"\"\n",
    "    A class to manage the euchre board.\n",
    "    \"\"\"\n",
    "\n",
    "    def __init__(self, config: dict) -> None:\n",
    "        \"\"\"\n",
    "        The constructor for the class.\n",
    "\n",
    "        Parameters\n",
    "        ----------\n",
    "        config : dict\n",
    "            The configuration parameters for euchre.\n",
    "        \"\"\"\n",
    "        self.config = config\n",
    "        self.score_to_win = self.config['score_to_win']  # 5, 7, or 10\n",
    "        self.values = self.config['values']  # 9 - A that can include 7's and/or 8's\n",
    "\n",
    "        self.num_players = 4\n",
    "        self.suits = ['♠', '♥', '♦', '♣']\n",
    "        self.deck = [f\"{value}{suit}\" for suit in self.suits for value in self.values]\n",
    "\n",
    "        self.players = [Player(id=id) for id in range(self.num_players)]\n",
    "        self.score = Score()\n",
    "\n",
    "        self.team_1_score = 0\n",
    "        self.team_2_score = 0\n",
    "        \n",
    "        self.top_card = None\n",
    "        self.trump = None\n",
    "\n",
    "    def deal_cards(self, distribution_pattern=(3, 2)):\n",
    "        \"\"\"\n",
    "        Deal the cards for a new \n",
    "\n",
    "        Parameters\n",
    "        ----------\n",
    "        \n",
    "\n",
    "        Returns\n",
    "        -------\n",
    "\n",
    "        \"\"\"\n",
    "        random.shuffle(self.deck)\n",
    "    \n",
    "        players_hands = {\n",
    "            '1': [],\n",
    "            '2': [],\n",
    "            '3': [],\n",
    "            '4': []\n",
    "        }\n",
    "\n",
    "        deck_index = 0\n",
    "        for count, player in enumerate(list(players_hands.keys()) * 2):\n",
    "            if (count % 2 == 0 and count < len(players_hands)) or (count % 2 == 1 and count >= len(players_hands)):\n",
    "                players_hands[player].append(self.deck[deck_index:deck_index+distribution_pattern[0]])\n",
    "                deck_index += distribution_pattern[0] \n",
    "            else:\n",
    "                players_hands[player].append(self.deck[deck_index:deck_index+distribution_pattern[1]])\n",
    "                deck_index += distribution_pattern[1]\n",
    "\n",
    "        for key in players_hands.keys():\n",
    "            players_hands[key] =  [item for sublist in players_hands[key] for item in sublist]\n",
    "                    \n",
    "        return players_hands, self.deck[deck_index]\n",
    "    \n",
    "    def reset(self):\n",
    "        \"\"\"\n",
    "        Reset the game.\n",
    "        \"\"\"\n",
    "        self.players = [Player(id=id) for id in range(self.num_players)]\n",
    "        \n",
    "        self.team_1_score = 0\n",
    "        self.team_2_score = 0\n",
    "\n",
    "        self.top_card = None\n",
    "        self.trump = None\n",
    "\n",
    "        self.reset_trick()\n",
    "\n",
    "    \n",
    "    def reset_trick(self):\n",
    "        \"\"\"\n",
    "        Reset the trick.\n",
    "        \"\"\"\n",
    "        players_hands, top_card = self.deal_cards(distribution_pattern=(3, 2))\n",
    "\n",
    "        for count, player in enumerate(self.players):\n",
    "            player.set_hand(players_hands[str(count + 1)])\n",
    "\n",
    "        self.top_card = top_card\n",
    "\n",
    "    def reward(self, won_trick, teammate_won) -> float:\n",
    "        \"\"\"\n",
    "        TODO\n",
    "\n",
    "        Returns\n",
    "        -------\n",
    "        float\n",
    "            The reward based on the action.\n",
    "        \"\"\"\n",
    "        return 1\n",
    "\n",
    "    def step(self, a) -> dict:\n",
    "        \"\"\"\n",
    "        TODO\n",
    "\n",
    "        Parameters\n",
    "        ----------\n",
    "        a : TODO\n",
    "            TODO\n",
    "\n",
    "        Returns\n",
    "        -------\n",
    "        dict\n",
    "            TODO\n",
    "        \"\"\"\n",
    "        if a == \"order_it_up\":\n",
    "            pass\n",
    "        elif a == \"pass\":\n",
    "            pass\n",
    "\n",
    "\n",
    "        return {\n",
    "\n",
    "        }"
   ]
  },
  {
   "cell_type": "code",
   "execution_count": 8,
   "metadata": {},
   "outputs": [],
   "source": [
    "env_config = {\n",
    "    'score_to_win': 10,\n",
    "    'values': ['9','10','J','Q','K','A']\n",
    "}\n",
    "\n",
    "euchre = Euchre(env_config)"
   ]
  },
  {
   "cell_type": "code",
   "execution_count": 55,
   "metadata": {},
   "outputs": [
    {
     "name": "stdout",
     "output_type": "stream",
     "text": [
      "['J♠', '10♣', 'K♦', '9♥', 'A♣'] 1\n",
      "['9♦', 'A♥', '9♣', 'Q♥', 'K♠'] 2\n",
      "['K♥', 'J♦', '10♠', '9♠', '10♥'] 1\n",
      "['10♦', 'Q♦', 'A♠', 'A♦', 'J♥'] 2\n"
     ]
    },
    {
     "data": {
      "text/plain": [
       "'♣'"
      ]
     },
     "execution_count": 55,
     "metadata": {},
     "output_type": "execute_result"
    }
   ],
   "source": [
    "euchre.reset()\n",
    "\n",
    "for player in euchre.players:\n",
    "    print(player.hand, player.team)\n",
    "\n",
    "euchre.trump"
   ]
  }
 ],
 "metadata": {
  "kernelspec": {
   "display_name": "csc_5661",
   "language": "python",
   "name": "python3"
  },
  "language_info": {
   "codemirror_mode": {
    "name": "ipython",
    "version": 3
   },
   "file_extension": ".py",
   "mimetype": "text/x-python",
   "name": "python",
   "nbconvert_exporter": "python",
   "pygments_lexer": "ipython3",
   "version": "3.9.18"
  }
 },
 "nbformat": 4,
 "nbformat_minor": 2
}
