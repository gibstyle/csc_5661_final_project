{
 "cells": [
  {
   "cell_type": "markdown",
   "metadata": {},
   "source": [
    "# Final Project: Euchre\n",
    "Tyler Gibson & Carter Shavitz | CSC 5661"
   ]
  },
  {
   "cell_type": "markdown",
   "metadata": {},
   "source": [
    "https://bicyclecards.com/how-to-play/euchre"
   ]
  },
  {
   "cell_type": "code",
   "execution_count": 1,
   "metadata": {},
   "outputs": [],
   "source": [
    "import random\n",
    "from player import Player"
   ]
  },
  {
   "cell_type": "markdown",
   "metadata": {},
   "source": [
    "## Euchre Environment"
   ]
  },
  {
   "cell_type": "code",
   "execution_count": 3,
   "metadata": {},
   "outputs": [],
   "source": [
    "class Euchre:\n",
    "    \"\"\"\n",
    "    A class to manage the euchre board.\n",
    "    \"\"\"\n",
    "\n",
    "    def __init__(self, config: dict) -> None:\n",
    "        \"\"\"\n",
    "        The constructor for the class.\n",
    "\n",
    "        Parameters\n",
    "        ----------\n",
    "        config : dict\n",
    "            The configuration parameters for euchre.\n",
    "        \"\"\"\n",
    "        self.config = config\n",
    "        self.score_to_win = self.config['score_to_win']  # 5, 7, or 10\n",
    "        self.values = self.config['values']  # 9 - A that can include 7's and/or 8's\n",
    "\n",
    "        self.num_players = 4\n",
    "        self.suits = ['♠', '♥', '♦', '♣']\n",
    "        self.deck = [f\"{value}{suit}\" for suit in self.suits for value in self.values]\n",
    "\n",
    "    def deal_cards(self, distribution_pattern=(3, 2)):\n",
    "        \"\"\"\n",
    "        Deal the cards for a new \n",
    "\n",
    "        Parameters\n",
    "        ----------\n",
    "        \n",
    "\n",
    "        Returns\n",
    "        -------\n",
    "\n",
    "        \"\"\"\n",
    "        random.shuffle(self.deck)\n",
    "    \n",
    "        players_hands = {\n",
    "            '1': [],\n",
    "            '2': [],\n",
    "            '3': [],\n",
    "            '4': []\n",
    "        }\n",
    "\n",
    "        deck_index = 0\n",
    "        for count, player in enumerate(list(players_hands.keys()) * 2):\n",
    "            if (count % 2 == 0 and count < len(players_hands)) or (count % 2 == 1 and count >= len(players_hands)):\n",
    "                players_hands[player].append(self.deck[deck_index:deck_index+distribution_pattern[0]])\n",
    "                deck_index += distribution_pattern[0] \n",
    "            else:\n",
    "                players_hands[player].append(self.deck[deck_index:deck_index+distribution_pattern[1]])\n",
    "                deck_index += distribution_pattern[1]\n",
    "\n",
    "        for key in players_hands.keys():\n",
    "            players_hands[key] =  [item for sublist in players_hands[key] for item in sublist]\n",
    "                    \n",
    "        return players_hands, self.deck[deck_index]\n",
    "    \n",
    "    def reset(self):\n",
    "        self.players = [Player(id=id) for id in range(self.num_players)]\n",
    "\n",
    "        players_hands, trump_card = self.deal_cards(distribution_pattern=(3, 2))\n",
    "\n",
    "        for count, player in enumerate(self.players):\n",
    "            player.set_hand(players_hands[str(count + 1)])\n",
    "\n",
    "\n",
    "    def reward(self) -> float:\n",
    "        \"\"\"\n",
    "        TODO\n",
    "\n",
    "        Returns\n",
    "        -------\n",
    "        float\n",
    "            TODO\n",
    "        \"\"\"\n",
    "        return 1\n",
    "\n",
    "    def step(self, a) -> dict:\n",
    "        \"\"\"\n",
    "        TODO\n",
    "\n",
    "        Parameters\n",
    "        ----------\n",
    "        a : TODO\n",
    "            TODO\n",
    "\n",
    "        Returns\n",
    "        -------\n",
    "        dict\n",
    "            TODO\n",
    "        \"\"\"\n",
    "        return {}"
   ]
  },
  {
   "cell_type": "code",
   "execution_count": 4,
   "metadata": {},
   "outputs": [],
   "source": [
    "env_config = {\n",
    "    'score_to_win': 10,\n",
    "    'values': ['9','10','J','Q','K','A']\n",
    "}\n",
    "\n",
    "euchre = Euchre(env_config)"
   ]
  },
  {
   "cell_type": "code",
   "execution_count": 14,
   "metadata": {},
   "outputs": [
    {
     "name": "stdout",
     "output_type": "stream",
     "text": [
      "['9♣', 'Q♠', 'K♦', 'K♠', 'Q♣']\n",
      "['10♦', 'K♥', '9♥', 'K♣', 'Q♦']\n",
      "['A♦', '10♠', 'Q♥', '10♥', 'J♣']\n",
      "['J♥', '9♦', '10♣', 'A♠', 'J♦']\n"
     ]
    },
    {
     "data": {
      "text/plain": [
       "['9♣',\n",
       " 'Q♠',\n",
       " 'K♦',\n",
       " '10♦',\n",
       " 'K♥',\n",
       " 'A♦',\n",
       " '10♠',\n",
       " 'Q♥',\n",
       " 'J♥',\n",
       " '9♦',\n",
       " 'K♠',\n",
       " 'Q♣',\n",
       " '9♥',\n",
       " 'K♣',\n",
       " 'Q♦',\n",
       " '10♥',\n",
       " 'J♣',\n",
       " '10♣',\n",
       " 'A♠',\n",
       " 'J♦',\n",
       " 'A♥',\n",
       " '9♠',\n",
       " 'J♠',\n",
       " 'A♣']"
      ]
     },
     "execution_count": 14,
     "metadata": {},
     "output_type": "execute_result"
    }
   ],
   "source": [
    "euchre.reset()\n",
    "\n",
    "for player in euchre.players:\n",
    "    print(player.hand)\n",
    "\n",
    "euchre.deck"
   ]
  },
  {
   "cell_type": "code",
   "execution_count": null,
   "metadata": {},
   "outputs": [],
   "source": []
  }
 ],
 "metadata": {
  "kernelspec": {
   "display_name": "csc_5661",
   "language": "python",
   "name": "python3"
  },
  "language_info": {
   "codemirror_mode": {
    "name": "ipython",
    "version": 3
   },
   "file_extension": ".py",
   "mimetype": "text/x-python",
   "name": "python",
   "nbconvert_exporter": "python",
   "pygments_lexer": "ipython3",
   "version": "3.9.18"
  }
 },
 "nbformat": 4,
 "nbformat_minor": 2
}
