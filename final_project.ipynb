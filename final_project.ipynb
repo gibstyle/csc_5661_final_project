{
 "cells": [
  {
   "cell_type": "markdown",
   "metadata": {},
   "source": [
    "# Final Project: Euchre\n",
    "Tyler Gibson & Carter Shavitz | CSC 5661"
   ]
  },
  {
   "cell_type": "markdown",
   "metadata": {},
   "source": [
    "https://bicyclecards.com/how-to-play/euchre"
   ]
  },
  {
   "cell_type": "code",
   "execution_count": null,
   "metadata": {},
   "outputs": [],
   "source": [
    "import random"
   ]
  },
  {
   "cell_type": "markdown",
   "metadata": {},
   "source": [
    "## Euchre Environment"
   ]
  },
  {
   "cell_type": "code",
   "execution_count": null,
   "metadata": {},
   "outputs": [],
   "source": [
    "class Euchre:\n",
    "    \"\"\"\n",
    "    A class to manage the euchre board.\n",
    "    \"\"\"\n",
    "\n",
    "    def __init__(self, config: dict) -> None:\n",
    "        \"\"\"\n",
    "        The constructor for the class.\n",
    "\n",
    "        Parameters\n",
    "        ----------\n",
    "        config : dict\n",
    "            The configuration parameters for euchre.\n",
    "        \"\"\"\n",
    "        self.config = config\n",
    "        self.score_to_win = self.config['score_to_win']  # 5, 7, or 10\n",
    "        self.values = self.config['values']  # 9 - A that can include 7's and/or 8's\n",
    "\n",
    "        self.num_players = 4\n",
    "        self.suits = ['♠', '♥', '♦', '♣']\n",
    "        self.deck = [f\"{value}{suit}\" for suit in self.suits for value in self.values]\n",
    "\n",
    "    def deal_cards(self, distribution_pattern=(3, 2)):\n",
    "        \"\"\"\n",
    "        \n",
    "        Parameters\n",
    "        ----------\n",
    "        \n",
    "\n",
    "        Returns\n",
    "        -------\n",
    "        \"\"\"\n",
    "        random.shuffle(self.deck)\n",
    "    \n",
    "        players_hands = {\n",
    "            'p1': [],\n",
    "            'p2': [],\n",
    "            'p3': [],\n",
    "            'p4': []\n",
    "        }\n",
    "\n",
    "        deck_index = 0\n",
    "        for count, player in enumerate(list(players_hands.keys()) * 2):\n",
    "            if (count % 2 == 0 and count < len(players_hands)) or (count % 2 == 1 and count >= len(players_hands)):\n",
    "                players_hands[player].append(self.deck[deck_index:deck_index+distribution_pattern[0]])\n",
    "                deck_index += distribution_pattern[0] \n",
    "            else:\n",
    "                players_hands[player].append(self.deck[deck_index:deck_index+distribution_pattern[1]])\n",
    "                deck_index += distribution_pattern[1]\n",
    "\n",
    "        for key in players_hands.keys():\n",
    "            players_hands[key] =  [item for sublist in players_hands[key] for item in sublist]\n",
    "                    \n",
    "        return players_hands\n",
    "\n",
    "    def reward(self) -> float:\n",
    "        \"\"\"\n",
    "        TODO\n",
    "\n",
    "        Returns\n",
    "        -------\n",
    "        float\n",
    "            TODO\n",
    "        \"\"\"\n",
    "        return 1\n",
    "\n",
    "    def step(self, a) -> dict:\n",
    "        \"\"\"\n",
    "        TODO\n",
    "\n",
    "        Parameters\n",
    "        ----------\n",
    "        a : TODO\n",
    "            TODO\n",
    "\n",
    "        Returns\n",
    "        -------\n",
    "        dict\n",
    "            TODO\n",
    "        \"\"\"\n",
    "        return {}"
   ]
  }
 ],
 "metadata": {
  "kernelspec": {
   "display_name": "csc_5661",
   "language": "python",
   "name": "python3"
  },
  "language_info": {
   "codemirror_mode": {
    "name": "ipython",
    "version": 3
   },
   "file_extension": ".py",
   "mimetype": "text/x-python",
   "name": "python",
   "nbconvert_exporter": "python",
   "pygments_lexer": "ipython3",
   "version": "3.9.18"
  }
 },
 "nbformat": 4,
 "nbformat_minor": 2
}
