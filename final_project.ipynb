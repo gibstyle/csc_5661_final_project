{
 "cells": [
  {
   "cell_type": "markdown",
   "metadata": {},
   "source": [
    "# Final Project: Euchre\n",
    "Tyler Gibson & Carter Shavitz | CSC 5661"
   ]
  },
  {
   "cell_type": "markdown",
   "metadata": {},
   "source": [
    "https://en.wikipedia.org/wiki/Euchre\n",
    "\n",
    "https://cardgames.io/euchre/"
   ]
  },
  {
   "cell_type": "code",
   "execution_count": 18,
   "metadata": {},
   "outputs": [],
   "source": [
    "import os\n",
    "os.environ[\"KMP_DUPLICATE_LIB_OK\"]=\"TRUE\"  # needed to do as sometimes kernel died"
   ]
  },
  {
   "cell_type": "code",
   "execution_count": 19,
   "metadata": {},
   "outputs": [],
   "source": [
    "import random\n",
    "\n",
    "import numpy as np\n",
    "import re\n",
    "import time\n",
    "\n",
    "import tqdm\n",
    "import pickle\n",
    "\n",
    "import players\n",
    "from score import Score\n",
    "\n",
    "from players import Player\n",
    "from players import RandomAgent\n",
    "from players import DQNAgent\n",
    "\n",
    "import matplotlib.pyplot as plt"
   ]
  },
  {
   "cell_type": "markdown",
   "metadata": {},
   "source": [
    "## Euchre Environment"
   ]
  },
  {
   "cell_type": "code",
   "execution_count": 20,
   "metadata": {},
   "outputs": [],
   "source": [
    "class Euchre:\n",
    "    \"\"\"\n",
    "    A class to manage the euchre board.\n",
    "    \"\"\"\n",
    "\n",
    "    def __init__(self, config: dict) -> None:\n",
    "        \"\"\"\n",
    "        The constructor for the class.\n",
    "\n",
    "        Parameters\n",
    "        ----------\n",
    "        config : dict\n",
    "            The configuration parameters for euchre.\n",
    "        \"\"\"\n",
    "        self.config = config\n",
    "        self.score_to_win = self.config['score_to_win']  # 5, 7, or 10\n",
    "        self.values = self.config['values']  # 9 - A that can include 7's and/or 8's\n",
    "\n",
    "        self.num_players = 4  # the numbers of players in the game\n",
    "        self.suits = ['♠', '♥', '♦', '♣']  # the card suits\n",
    "        self.regex_suits = r'[♠♥♦♣]'\n",
    "        self.deck = [f\"{value}{suit}\" for suit in self.suits for value in self.values]  # the valid deck of cards\n",
    "\n",
    "        self.card_state = {f\"{value}{suit}\": False for suit in self.suits for value in self.values}\n",
    "        self.trick_state = {f\"{value}{suit}\": False for suit in self.suits for value in self.values}\n",
    "\n",
    "\n",
    "        self.score = Score()  # score class\n",
    "\n",
    "        self.team_1_score = 0  # keep track of team 1 score\n",
    "        self.team_2_score = 0  # keep track of team 2 score\n",
    "        \n",
    "        self.top_card = None  # the top card after the deal\n",
    "        self.dealer = 1  # the current dealer\n",
    "        self.lead_suit = ''  # the lead suit\n",
    "        self.trump_suit = ''  # the trump suit for the trick\n",
    "\n",
    "        self.card_num = {card: index for index, card in enumerate(self.deck)}  # the numerical encoding of the card\n",
    "        self.suit_num = {suit: index for index, suit in enumerate(self.suits)}  # the numerical encoding of the suit\n",
    "\n",
    "    def deal_cards(self, distribution_pattern=(3, 2)):\n",
    "        \"\"\"\n",
    "        Deal the cards for a new round.\n",
    "\n",
    "        Parameters\n",
    "        ----------\n",
    "        distribution_pattern : tuple\n",
    "            The distribution pattern on how to distribute the cards to players, default = (3, 2)\n",
    "\n",
    "        Returns\n",
    "        -------\n",
    "        players_hands : dict\n",
    "            A dictionary where: key = player id, value = list of cards\n",
    "        self.deck[deck_index] : str\n",
    "            The top card of the deck after cards have been distributed.\n",
    "        \"\"\"\n",
    "        random.shuffle(self.deck)  # suffle the deck\n",
    "    \n",
    "        players_hands = {  # init dict to hold players cards\n",
    "            '1': [],\n",
    "            '2': [],\n",
    "            '3': [],\n",
    "            '4': []\n",
    "        }\n",
    "\n",
    "        deck_index = 0  # index to traverse the deck\n",
    "        for count, player in enumerate(list(players_hands.keys()) * 2):  # loop though to distribute cards to players\n",
    "            if (count % 2 == 0 and count < len(players_hands)) or (count % 2 == 1 and count >= len(players_hands)):\n",
    "                players_hands[player].append(self.deck[deck_index:deck_index+distribution_pattern[0]])\n",
    "                deck_index += distribution_pattern[0] \n",
    "            else:\n",
    "                players_hands[player].append(self.deck[deck_index:deck_index+distribution_pattern[1]])\n",
    "                deck_index += distribution_pattern[1]\n",
    "\n",
    "        for key in players_hands.keys():\n",
    "            players_hands[key] =  [item for sublist in players_hands[key] for item in sublist]\n",
    "                    \n",
    "        return players_hands, self.deck[deck_index]\n",
    "    \n",
    "    def reset_game(self, players: list[Player]):\n",
    "        \"\"\"\n",
    "        Reset the game.\n",
    "        \"\"\"\n",
    "        self.team_1_score = 0\n",
    "        self.team_2_score = 0\n",
    "        self.top_card = None\n",
    "        self.dealer = np.random.choice(range(self.num_players)) + 1\n",
    "        players = self.reset_hand(players=players)\n",
    "\n",
    "        return players\n",
    "\n",
    "    def reset_hand(self, players: list[Player]):\n",
    "        \"\"\"\n",
    "        Reset the hand.\n",
    "        \"\"\"\n",
    "        self.card_state = {f\"{value}{suit}\": False for suit in self.suits for value in self.values}\n",
    "\n",
    "        for player in players:\n",
    "            player.points = 0\n",
    "            \n",
    "        players_hands, top_card = self.deal_cards(distribution_pattern=(3, 2))\n",
    "\n",
    "        for count, player in enumerate(players):\n",
    "            player.set_hand(players_hands[str(count + 1)])\n",
    "\n",
    "        self.top_card = top_card\n",
    "\n",
    "        self.reset_trick()\n",
    "        \n",
    "        return players\n",
    "\n",
    "    def reset_trick(self):\n",
    "        \"\"\"\n",
    "        Reset the trick.\n",
    "        \"\"\"\n",
    "        self.dealer = 1 if self.dealer == 4 else self.dealer + 1  \n",
    "        self.trick_state = {f\"{value}{suit}\": False for suit in self.suits for value in self.values}\n",
    "\n",
    "    def update_team_scores(self, players: list[Player], player_team_id_trump: int):\n",
    "        \"\"\"\n",
    "        Update the team scores.\n",
    "        \"\"\"\n",
    "        hand_scores = self.score.score_hand(players, solo_call=False)  # calculate the hand scores by looking at each players points for all tricks\n",
    "            \n",
    "        # update team scores\n",
    "        if player_team_id_trump == 1:\n",
    "            self.team_1_score += hand_scores['makers']\n",
    "            self.team_2_score += hand_scores['defenders']\n",
    "        else:\n",
    "            self.team_2_score += hand_scores['makers']\n",
    "            self.team_1_score += hand_scores['defenders']\n",
    "        \n",
    "        return True if self.team_1_score >= 10 or self.team_2_score >= 10 else False\n",
    "\n",
    "\n",
    "    def reward(self, won_trick, teammate_won) -> float:\n",
    "        \"\"\"\n",
    "        TODO\n",
    "\n",
    "        Returns\n",
    "        -------\n",
    "        float\n",
    "            The reward based on the action.\n",
    "        \"\"\"\n",
    "        if won_trick:\n",
    "            return 1\n",
    "        elif teammate_won:\n",
    "            return 1\n",
    "        else:\n",
    "            return -1\n",
    "\n",
    "    def step(self, actions: dict) -> dict:\n",
    "        \"\"\"\n",
    "        TODO\n",
    "\n",
    "        Parameters\n",
    "        ----------\n",
    "        a : TODO\n",
    "            TODO\n",
    "\n",
    "        Returns\n",
    "        -------\n",
    "        dict\n",
    "            TODO\n",
    "        \"\"\"\n",
    "        # find the player id who won the trick\n",
    "        highest_player_id = self.score.score_trick(\n",
    "            actions=actions,\n",
    "            trump_suit=self.trump_suit,\n",
    "            lead_suit=self.lead_suit\n",
    "        )\n",
    "        highest_player_team_id = actions[highest_player_id]['team']  # get team that won trick\n",
    "\n",
    "        rewards = {}  # store rewards for players\n",
    "        states = {}\n",
    "        for id, action in actions.items():\n",
    "            rewards[id] = self.reward(won_trick=id == highest_player_id, teammate_won=action['team'] == highest_player_team_id)\n",
    "\n",
    "            # update state space\n",
    "            self.card_state[action['action']] = True\n",
    "            self.trick_state[action['action']] = True\n",
    "            states[id] = np.array(\n",
    "                    [1 if self.card_state[card] else 0 for card in self.deck] + \n",
    "                    [1 if self.trick_state[card] else 0 for card in self.deck] +\n",
    "                    [self.suit_num[self.lead_suit] if self.lead_suit != -1 else -1] + \n",
    "                    [self.suit_num[self.trump_suit]]\n",
    "            ).flatten().tolist()\n",
    "\n",
    "        return {\n",
    "            'state': states,\n",
    "            'rewards': rewards,\n",
    "            'highest_player_id': highest_player_id,\n",
    "        }"
   ]
  },
  {
   "cell_type": "markdown",
   "metadata": {},
   "source": [
    "Initalize the environment."
   ]
  },
  {
   "cell_type": "code",
   "execution_count": 21,
   "metadata": {},
   "outputs": [],
   "source": [
    "env_config = {\n",
    "    'score_to_win': 10,\n",
    "    'values': ['9','10','J','Q','K','A'],\n",
    "}\n",
    "euchre = Euchre(env_config)"
   ]
  },
  {
   "cell_type": "markdown",
   "metadata": {},
   "source": [
    "Initalize random action players."
   ]
  },
  {
   "cell_type": "code",
   "execution_count": 22,
   "metadata": {},
   "outputs": [],
   "source": [
    "players = [\n",
    "    RandomAgent(id=id + 1, team_id=1 if id % 2 == 0 else 2, train=False, name=f'RA {id + 1}') for id in range(euchre.num_players)\n",
    "]"
   ]
  },
  {
   "cell_type": "markdown",
   "metadata": {},
   "source": [
    "Simulate games."
   ]
  },
  {
   "cell_type": "code",
   "execution_count": 23,
   "metadata": {},
   "outputs": [],
   "source": [
    "def simulate_games(euchre: Euchre, players: list[Player], episodes: int, debug: bool=False):\n",
    "    count = 0\n",
    "\n",
    "    # store results of training\n",
    "    results = {\n",
    "        'team_wins': [],\n",
    "        'individual_wins': []\n",
    "    }\n",
    "\n",
    "    for epi in tqdm.tqdm(range(episodes)):  # loop through episodes\n",
    "        players = euchre.reset_game(players=players)  # reset game\n",
    "        hands = 1  # keep track of which game we are on\n",
    "        done = False  # use to show when game is done\n",
    "\n",
    "        while not done: # continue until game is complete\n",
    "            count += 1\n",
    "            \n",
    "            player_choose_trump = np.random.choice(players)  # assuming the player to the left of dealer chooses trump and starts (not based off of actual rules)\n",
    "            player_choose_trump.trick_team = 'makers'  # assign the first player as the Makers\n",
    "\n",
    "            makers = player_choose_trump.team_id  # set makers to player team who chose trump\n",
    "            for player in players:\n",
    "                player.trick_team = 'makers' if player.team_id == makers else 'defenders'\n",
    "\n",
    "            current_player_id = 1 if player_choose_trump.id == 4 else player_choose_trump.id + 1  # TODO should be person to left of dealer\n",
    "\n",
    "            for i in range(5):  # loop through 5 tricks (each player should have 5 cards)\n",
    "                euchre.lead_suit = -1  # init lead suit to empty\n",
    "                euchre.trump_suit = re.findall(euchre.regex_suits, euchre.top_card)[0]  # determine the trump suit\n",
    "                round_state = euchre.card_state.copy()  # create copy of round state cards\n",
    "                trick_state = euchre.trick_state.copy()  # create copy of current trick state cards\n",
    "                actions = {}  # init dict to hold actions from players for current trick\n",
    "\n",
    "                # loop through each player for their turn\n",
    "                for x in range(euchre.num_players):  # loop through each players\n",
    "                    s_t = np.array(\n",
    "                        [1 if round_state[card] else 0 for card in euchre.deck] + \n",
    "                        [1 if trick_state[card] else 0 for card in euchre.deck] + \n",
    "                        [euchre.suit_num[euchre.lead_suit] if euchre.lead_suit != -1 else -1] + \n",
    "                        [euchre.suit_num[euchre.trump_suit]]\n",
    "                    ).flatten().tolist()  # add state information\n",
    "\n",
    "                    current_player = [player for player in players if player.id == current_player_id][0]  # get current player based on id\n",
    "                    action = current_player.choose_action(\n",
    "                        state={\n",
    "                            'hand': current_player.hand,\n",
    "                            'lead_suit': euchre.lead_suit,\n",
    "                            's_t': s_t,\n",
    "                            'count': count,\n",
    "                            'episode': epi\n",
    "                        }\n",
    "                    )  # choose the action\n",
    "                    \n",
    "                    # store current state, action and state/action\n",
    "                    current_player.data_t = {\n",
    "                        's_t': s_t,\n",
    "                        'a_t': euchre.card_num[action],\n",
    "                        'd_s_a': s_t + [euchre.card_num[action]]\n",
    "                    }\n",
    "\n",
    "                    if x == 0:  # if it is the first player, determine the lead suit\n",
    "                        euchre.lead_suit = re.findall(euchre.regex_suits, current_player.current_card)[0] # use regex\n",
    "\n",
    "                    current_player_id = 1 if current_player_id == 4 else current_player_id + 1  # update the current player id to the next player\n",
    "\n",
    "                    # update card state based on current card chosen\n",
    "                    round_state[current_player.current_card] = True\n",
    "                    trick_state[current_player.current_card] = True\n",
    "\n",
    "                    actions[str(current_player.id)] = {  # add action and team to \n",
    "                        'action': current_player.current_card,\n",
    "                        'team': current_player.team_id\n",
    "                    }\n",
    "\n",
    "                next_step = euchre.step(actions)  # step\n",
    "\n",
    "                highest_player = [player for player in players if player.id == int(next_step['highest_player_id'])][0]  # get player who won trick\n",
    "                highest_player.points += 1  # update their points by 1 for the hand\n",
    "                current_player_id = int(next_step['highest_player_id'])  # the player who won the trick will lead the next trick\n",
    "\n",
    "                results['individual_wins'].append(next_step['highest_player_id'])\n",
    "                for id in next_step['state'].keys():\n",
    "                    current_player = [player for player in players if player.id == int(id)][0]  # get player by id\n",
    "                    if current_player.train:\n",
    "                        current_player.train_update(\n",
    "                            state_t_1=next_step['state'][id],\n",
    "                            reward_t_1=next_step['rewards'][id],\n",
    "                            count=count\n",
    "                        )\n",
    "\n",
    "                euchre.reset_trick()\n",
    "\n",
    "                if debug:\n",
    "                    print(\"==================================================\")\n",
    "                    print(f'Trump Suit: {euchre.trump_suit}; Lead Suit: {euchre.lead_suit}')\n",
    "                    for player in players: print(vars(player))\n",
    "                    print('Actions:\\n', actions)\n",
    "                    print('Player Id Who Won Trick:', highest_player.id)\n",
    "\n",
    "            done = euchre.update_team_scores(players, player_team_id_trump=player_choose_trump.team_id)\n",
    "\n",
    "            if debug: \n",
    "                print(f'\\n\\nHand {hands} Recap\\t\\t Team 1 Score: {euchre.team_1_score}\\t\\tTeam 2 Score: {euchre.team_2_score}')\n",
    "                for player in players: print(f'Player {player.id} Points ({player.trick_team} & {player.team_id}): {player.points}')\n",
    "\n",
    "            hands += 1  # update hand counter\n",
    "            players = euchre.reset_hand(players=players)  # reset hand\n",
    "\n",
    "        results['team_wins'].append(1 if euchre.team_1_score >= 10 else 2)\n",
    "        \n",
    "        if debug: \n",
    "            print('Team 1 Wins' if euchre.team_1_score >= 10 else 'Team 2 Wins')\n",
    "\n",
    "    return players, results"
   ]
  },
  {
   "cell_type": "code",
   "execution_count": 24,
   "metadata": {},
   "outputs": [
    {
     "name": "stderr",
     "output_type": "stream",
     "text": [
      "100%|██████████| 1000/1000 [00:05<00:00, 174.51it/s]\n"
     ]
    }
   ],
   "source": [
    "players, results = simulate_games(euchre=euchre, players=players, episodes=1000, debug=False)"
   ]
  },
  {
   "cell_type": "markdown",
   "metadata": {},
   "source": [
    "Results of simulation."
   ]
  },
  {
   "cell_type": "code",
   "execution_count": 25,
   "metadata": {},
   "outputs": [
    {
     "data": {
      "image/png": "[encoded data removed]",
      "text/plain": [
       "<Figure size 800x600 with 1 Axes>"
      ]
     },
     "metadata": {},
     "output_type": "display_data"
    }
   ],
   "source": [
    "team_1_wins = np.sum(np.array(results['team_wins']) == 1)\n",
    "team_2_wins = np.sum(np.array(results['team_wins']) == 2)\n",
    "\n",
    "teams = ['Team 1', 'Team 2']\n",
    "wins = [team_1_wins, team_2_wins]\n",
    "\n",
    "plt.figure(figsize=(8, 6))\n",
    "bars = plt.bar(teams, wins, color=['blue', 'red'])\n",
    "\n",
    "for bar, win in zip(bars, wins):\n",
    "    plt.text(bar.get_x() + bar.get_width() / 2, bar.get_height(),\n",
    "             str(win), ha='center', va='bottom', fontsize=12, color='black')\n",
    "\n",
    "plt.xlabel('Teams')\n",
    "plt.ylabel('Wins')\n",
    "plt.title('Team Wins')\n",
    "plt.show()"
   ]
  },
  {
   "cell_type": "code",
   "execution_count": 26,
   "metadata": {},
   "outputs": [
    {
     "data": {
      "image/png": "[encoded data removed]",
      "text/plain": [
       "<Figure size 800x600 with 1 Axes>"
      ]
     },
     "metadata": {},
     "output_type": "display_data"
    }
   ],
   "source": [
    "player_1_wins = np.sum(np.array(results['individual_wins']) == '1')\n",
    "player_2_wins = np.sum(np.array(results['individual_wins']) == '2')\n",
    "player_3_wins = np.sum(np.array(results['individual_wins']) == '3')\n",
    "player_4_wins = np.sum(np.array(results['individual_wins']) == '4')\n",
    "\n",
    "teams = ['Player 1', 'Player 2', 'Player 3', 'Player 4']\n",
    "wins = [player_1_wins, player_2_wins, player_3_wins, player_4_wins]\n",
    "\n",
    "plt.figure(figsize=(8, 6))\n",
    "bars = plt.bar(teams, wins, color=['blue', 'red'])\n",
    "\n",
    "for bar, win in zip(bars, wins):\n",
    "    plt.text(bar.get_x() + bar.get_width() / 2, bar.get_height(),\n",
    "             str(win), ha='center', va='bottom', fontsize=12, color='black')\n",
    "\n",
    "plt.xlabel('Teams')\n",
    "plt.ylabel('Wins')\n",
    "plt.title('Team Wins')\n",
    "plt.show()"
   ]
  },
  {
   "cell_type": "markdown",
   "metadata": {},
   "source": [
    "## Incoporate Agents to Learn"
   ]
  },
  {
   "cell_type": "markdown",
   "metadata": {},
   "source": [
    "TODO"
   ]
  },
  {
   "cell_type": "markdown",
   "metadata": {},
   "source": [
    "Save Players"
   ]
  },
  {
   "cell_type": "code",
   "execution_count": null,
   "metadata": {},
   "outputs": [],
   "source": [
    "with open('players.pkl', 'wb') as f:\n",
    "    pickle.dump(players, f)"
   ]
  },
  {
   "cell_type": "markdown",
   "metadata": {},
   "source": [
    "Load Players"
   ]
  },
  {
   "cell_type": "code",
   "execution_count": 6,
   "metadata": {},
   "outputs": [],
   "source": [
    "with open('players.pkl', 'rb') as f:\n",
    "    players = pickle.load(f)"
   ]
  }
 ],
 "metadata": {
  "kernelspec": {
   "display_name": "Python 3",
   "language": "python",
   "name": "python3"
  },
  "language_info": {
   "codemirror_mode": {
    "name": "ipython",
    "version": 3
   },
   "file_extension": ".py",
   "mimetype": "text/x-python",
   "name": "python",
   "nbconvert_exporter": "python",
   "pygments_lexer": "ipython3",
   "version": "3.10.11"
  }
 },
 "nbformat": 4,
 "nbformat_minor": 2
}
