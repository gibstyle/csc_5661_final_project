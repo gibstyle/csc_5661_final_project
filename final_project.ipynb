{
 "cells": [
  {
   "cell_type": "markdown",
   "metadata": {},
   "source": [
    "# Final Project: Euchre\n",
    "Tyler Gibson & Carter Shavitz | CSC 5661"
   ]
  },
  {
   "cell_type": "markdown",
   "metadata": {},
   "source": [
    "https://bicyclecards.com/how-to-play/euchre"
   ]
  },
  {
   "cell_type": "code",
   "execution_count": 3,
   "metadata": {},
   "outputs": [],
   "source": [
    "import random"
   ]
  },
  {
   "cell_type": "markdown",
   "metadata": {},
   "source": [
    "## Euchre Environment"
   ]
  },
  {
   "cell_type": "code",
   "execution_count": null,
   "metadata": {},
   "outputs": [],
   "source": [
    "class Euchre:\n",
    "    \"\"\"\n",
    "    A class to manage the euchre board.\n",
    "    \"\"\"\n",
    "\n",
    "    def __init__(self, config: dict) -> None:\n",
    "        \"\"\"\n",
    "        The constructor for the class.\n",
    "\n",
    "        Parameters\n",
    "        ----------\n",
    "        config : dict\n",
    "            The configuration parameters for euchre.\n",
    "        \"\"\"\n",
    "        self.config = config\n",
    "        self.score_to_win = self.config['score_to_win']  # 5, 7, or 10\n",
    "        self.values = self.config['values']  # 9 - A that can include 7's and/or 8's\n",
    "\n",
    "        self.num_players = 4\n",
    "        self.suits = ['♠', '♥', '♦', '♣']\n",
    "        self.deck = [f\"{value}{suit}\" for suit in self.suits for value in self.values]\n",
    "\n",
    "    def deal_cards(self, distribution_pattern=(3, 2)):\n",
    "        \"\"\"\n",
    "        \n",
    "        Parameters\n",
    "        ----------\n",
    "        \n",
    "\n",
    "        Returns\n",
    "        -------\n",
    "        \"\"\"\n",
    "        random.shuffle(self.deck)\n",
    "        print(self.deck)\n",
    "    \n",
    "        players_hands = {\n",
    "            'p1': [],\n",
    "            'p2': [],\n",
    "            'p3': [],\n",
    "            'p4': []\n",
    "        }\n",
    "\n",
    "        for i in range(5):\n",
    "            players_hands['p1'].append(self.deck[i*4])\n",
    "            players_hands['p2'].append(self.deck[i*4+1])\n",
    "            players_hands['p3'].append(self.deck[i*4+2])\n",
    "            players_hands['p4'].append(self.deck[i*4+3])\n",
    "\n",
    "        trump_card = self.deck[20] #retrieve top card of deck left\n",
    "\n",
    "    \n",
    "    #    deck_index = 0\n",
    "    #    for count, player in enumerate(list(players_hands.keys()) * 2):\n",
    "    #        if (count % 2 == 0 and count < len(players_hands)) or (count % 2 == 1 and count >= len(players_hands)):\n",
    "    #            players_hands[player].append(self.deck[deck_index:deck_index+distribution_pattern[0]])\n",
    "    #            deck_index += distribution_pattern[0] \n",
    "    #        else:\n",
    "    #            players_hands[player].append(self.deck[deck_index:deck_index+distribution_pattern[1]])\n",
    "    #            deck_index += distribution_pattern[1]\n",
    "        \n",
    "\n",
    "    #    for key in players_hands.keys():\n",
    "    #        players_hands[key] =  [item for sublist in players_hands[key] for item in sublist]\n",
    "\n",
    "        return players_hands, trump_card\n",
    "\n",
    "    def check_win(self) -> bool:\n",
    "        \"\"\"\n",
    "        TODO\n",
    "        \n",
    "        Returns\n",
    "        -------\n",
    "        bool\n",
    "            TODO\n",
    "        \"\"\"\n",
    "        return False\n",
    "\n",
    "    def reward(self) -> float:\n",
    "        \"\"\"\n",
    "        TODO\n",
    "\n",
    "        Returns\n",
    "        -------\n",
    "        float\n",
    "            TODO\n",
    "        \"\"\"\n",
    "        return 1\n",
    "\n",
    "    def step(self, a) -> dict:\n",
    "        \"\"\"\n",
    "        TODO\n",
    "\n",
    "        Parameters\n",
    "        ----------\n",
    "        a : TODO\n",
    "            TODO\n",
    "\n",
    "        Returns\n",
    "        -------\n",
    "        dict\n",
    "            TODO\n",
    "        \"\"\"\n",
    "\n",
    "        return {}"
   ]
  },
  {
   "cell_type": "code",
   "execution_count": 16,
   "metadata": {},
   "outputs": [],
   "source": [
    "env_config = {'score_to_win':10,'values':['9','10','J','Q','K','A']}    #set up the environmental config\n",
    "euchre = Euchre(env_config)"
   ]
  },
  {
   "cell_type": "code",
   "execution_count": null,
   "metadata": {},
   "outputs": [
    {
     "name": "stdout",
     "output_type": "stream",
     "text": [
      "['Q♣', 'K♦', 'K♠', 'Q♦', '9♠', '9♦', 'Q♠', 'K♥', '9♥', 'J♠', 'A♥', 'A♠', '10♥', 'Q♥', 'A♦', 'A♣', '10♦', 'J♥', 'K♣', 'J♦', 'J♣', '9♣', '10♣', '10♠']\n",
      "{'p1': ['Q♣', '9♠', '9♥', '10♥', '10♦'], 'p2': ['K♦', '9♦', 'J♠', 'Q♥', 'J♥'], 'p3': ['K♠', 'Q♠', 'A♥', 'A♦', 'K♣'], 'p4': ['Q♦', 'K♥', 'A♠', 'A♣', 'J♦']}\n",
      "J♣\n"
     ]
    }
   ],
   "source": [
    "players_hands, trump = euchre.deal_cards()"
   ]
  },
  {
   "cell_type": "code",
   "execution_count": null,
   "metadata": {},
   "outputs": [],
   "source": []
  }
 ],
 "metadata": {
  "kernelspec": {
   "display_name": "Python 3",
   "language": "python",
   "name": "python3"
  },
  "language_info": {
   "codemirror_mode": {
    "name": "ipython",
    "version": 3
   },
   "file_extension": ".py",
   "mimetype": "text/x-python",
   "name": "python",
   "nbconvert_exporter": "python",
   "pygments_lexer": "ipython3",
   "version": "3.10.11"
  }
 },
 "nbformat": 4,
 "nbformat_minor": 2
}
